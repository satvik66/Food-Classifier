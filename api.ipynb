{
 "cells": [
  {
   "cell_type": "code",
   "execution_count": 1,
   "metadata": {},
   "outputs": [],
   "source": [
    "import pandas as pd\n",
    "import ast\n",
    "from scipy.spatial.distance import cosine, euclidean, hamming\n",
    "from sklearn.preprocessing import normalize\n",
    "import matplotlib.pyplot as plt\n",
    "import matplotlib.gridspec as gridspec\n",
    "from time import time"
   ]
  },
  {
   "cell_type": "code",
   "execution_count": 2,
   "metadata": {},
   "outputs": [],
   "source": [
    "recipe = pd.read_csv('cleaned1-Copy1.csv')"
   ]
  },
  {
   "cell_type": "code",
   "execution_count": 3,
   "metadata": {},
   "outputs": [
    {
     "data": {
      "text/html": [
       "<div>\n",
       "<style scoped>\n",
       "    .dataframe tbody tr th:only-of-type {\n",
       "        vertical-align: middle;\n",
       "    }\n",
       "\n",
       "    .dataframe tbody tr th {\n",
       "        vertical-align: top;\n",
       "    }\n",
       "\n",
       "    .dataframe thead th {\n",
       "        text-align: right;\n",
       "    }\n",
       "</style>\n",
       "<table border=\"1\" class=\"dataframe\">\n",
       "  <thead>\n",
       "    <tr style=\"text-align: right;\">\n",
       "      <th></th>\n",
       "      <th>Unnamed: 0</th>\n",
       "      <th>title</th>\n",
       "      <th>rating</th>\n",
       "      <th>review_nums</th>\n",
       "      <th>calories</th>\n",
       "      <th>protein</th>\n",
       "      <th>fat</th>\n",
       "      <th>sodium</th>\n",
       "      <th>ingredients</th>\n",
       "      <th>directions_</th>\n",
       "    </tr>\n",
       "  </thead>\n",
       "  <tbody>\n",
       "    <tr>\n",
       "      <th>0</th>\n",
       "      <td>0</td>\n",
       "      <td>Homemade Bacon</td>\n",
       "      <td>5.0</td>\n",
       "      <td>3</td>\n",
       "      <td>308</td>\n",
       "      <td>21</td>\n",
       "      <td>23</td>\n",
       "      <td>2017</td>\n",
       "      <td>pork belly\\nsmoked paprika\\nkosher salt\\ngroun...</td>\n",
       "      <td>Prep\\n5 m\\nCook\\n2 h 45 m\\nReady In\\n11 h 50 m...</td>\n",
       "    </tr>\n",
       "    <tr>\n",
       "      <th>1</th>\n",
       "      <td>1</td>\n",
       "      <td>Pork Loin, Apples, and Sauerkraut</td>\n",
       "      <td>4.8</td>\n",
       "      <td>29</td>\n",
       "      <td>371</td>\n",
       "      <td>36</td>\n",
       "      <td>11</td>\n",
       "      <td>2606</td>\n",
       "      <td>sauerkraut drained\\nGranny Smith apples sliced...</td>\n",
       "      <td>Prep\\n15 m\\nCook\\n2 h 30 m\\nReady In\\n2 h 45 m...</td>\n",
       "    </tr>\n",
       "    <tr>\n",
       "      <th>2</th>\n",
       "      <td>2</td>\n",
       "      <td>Foolproof Rosemary Chicken Wings</td>\n",
       "      <td>4.6</td>\n",
       "      <td>12</td>\n",
       "      <td>335</td>\n",
       "      <td>23</td>\n",
       "      <td>23</td>\n",
       "      <td>762</td>\n",
       "      <td>chicken wings\\nsprigs rosemary\\nhead garlic\\no...</td>\n",
       "      <td>Prep\\n20 m\\nCook\\n40 m\\nReady In\\n1 h\\nPreheat...</td>\n",
       "    </tr>\n",
       "    <tr>\n",
       "      <th>3</th>\n",
       "      <td>3</td>\n",
       "      <td>Chicken Pesto Paninis</td>\n",
       "      <td>4.6</td>\n",
       "      <td>163</td>\n",
       "      <td>640</td>\n",
       "      <td>32</td>\n",
       "      <td>29</td>\n",
       "      <td>1075</td>\n",
       "      <td>focaccia bread quartered\\nprepared basil pesto...</td>\n",
       "      <td>Prep\\n15 m\\nCook\\n5 m\\nReady In\\n20 m\\nPreheat...</td>\n",
       "    </tr>\n",
       "    <tr>\n",
       "      <th>4</th>\n",
       "      <td>4</td>\n",
       "      <td>Potato Bacon Pizza</td>\n",
       "      <td>4.5</td>\n",
       "      <td>2</td>\n",
       "      <td>162</td>\n",
       "      <td>7</td>\n",
       "      <td>7</td>\n",
       "      <td>189</td>\n",
       "      <td>red potatoes\\nstrips bacon\\nSauce:\\nheavy whip...</td>\n",
       "      <td>Prep\\n20 m\\nCook\\n45 m\\nReady In\\n1 h 10 m\\nPl...</td>\n",
       "    </tr>\n",
       "  </tbody>\n",
       "</table>\n",
       "</div>"
      ],
      "text/plain": [
       "   Unnamed: 0                              title  rating  review_nums  \\\n",
       "0           0                     Homemade Bacon     5.0            3   \n",
       "1           1  Pork Loin, Apples, and Sauerkraut     4.8           29   \n",
       "2           2   Foolproof Rosemary Chicken Wings     4.6           12   \n",
       "3           3              Chicken Pesto Paninis     4.6          163   \n",
       "4           4                 Potato Bacon Pizza     4.5            2   \n",
       "\n",
       "   calories  protein  fat  sodium  \\\n",
       "0       308       21   23    2017   \n",
       "1       371       36   11    2606   \n",
       "2       335       23   23     762   \n",
       "3       640       32   29    1075   \n",
       "4       162        7    7     189   \n",
       "\n",
       "                                         ingredients  \\\n",
       "0  pork belly\\nsmoked paprika\\nkosher salt\\ngroun...   \n",
       "1  sauerkraut drained\\nGranny Smith apples sliced...   \n",
       "2  chicken wings\\nsprigs rosemary\\nhead garlic\\no...   \n",
       "3  focaccia bread quartered\\nprepared basil pesto...   \n",
       "4  red potatoes\\nstrips bacon\\nSauce:\\nheavy whip...   \n",
       "\n",
       "                                         directions_  \n",
       "0  Prep\\n5 m\\nCook\\n2 h 45 m\\nReady In\\n11 h 50 m...  \n",
       "1  Prep\\n15 m\\nCook\\n2 h 30 m\\nReady In\\n2 h 45 m...  \n",
       "2  Prep\\n20 m\\nCook\\n40 m\\nReady In\\n1 h\\nPreheat...  \n",
       "3  Prep\\n15 m\\nCook\\n5 m\\nReady In\\n20 m\\nPreheat...  \n",
       "4  Prep\\n20 m\\nCook\\n45 m\\nReady In\\n1 h 10 m\\nPl...  "
      ]
     },
     "execution_count": 3,
     "metadata": {},
     "output_type": "execute_result"
    }
   ],
   "source": [
    "recipe.head()"
   ]
  },
  {
   "cell_type": "code",
   "execution_count": 4,
   "metadata": {},
   "outputs": [],
   "source": [
    "id=pd.read_csv('id.csv')"
   ]
  },
  {
   "cell_type": "code",
   "execution_count": 5,
   "metadata": {},
   "outputs": [
    {
     "data": {
      "text/html": [
       "<div>\n",
       "<style scoped>\n",
       "    .dataframe tbody tr th:only-of-type {\n",
       "        vertical-align: middle;\n",
       "    }\n",
       "\n",
       "    .dataframe tbody tr th {\n",
       "        vertical-align: top;\n",
       "    }\n",
       "\n",
       "    .dataframe thead th {\n",
       "        text-align: right;\n",
       "    }\n",
       "</style>\n",
       "<table border=\"1\" class=\"dataframe\">\n",
       "  <thead>\n",
       "    <tr style=\"text-align: right;\">\n",
       "      <th></th>\n",
       "      <th>Unnamed: 0</th>\n",
       "      <th>recipe_id</th>\n",
       "    </tr>\n",
       "  </thead>\n",
       "  <tbody>\n",
       "    <tr>\n",
       "      <th>0</th>\n",
       "      <td>0</td>\n",
       "      <td>222388</td>\n",
       "    </tr>\n",
       "    <tr>\n",
       "      <th>1</th>\n",
       "      <td>1</td>\n",
       "      <td>240488</td>\n",
       "    </tr>\n",
       "    <tr>\n",
       "      <th>2</th>\n",
       "      <td>2</td>\n",
       "      <td>218939</td>\n",
       "    </tr>\n",
       "    <tr>\n",
       "      <th>3</th>\n",
       "      <td>3</td>\n",
       "      <td>87211</td>\n",
       "    </tr>\n",
       "    <tr>\n",
       "      <th>4</th>\n",
       "      <td>4</td>\n",
       "      <td>245714</td>\n",
       "    </tr>\n",
       "  </tbody>\n",
       "</table>\n",
       "</div>"
      ],
      "text/plain": [
       "   Unnamed: 0  recipe_id\n",
       "0           0     222388\n",
       "1           1     240488\n",
       "2           2     218939\n",
       "3           3      87211\n",
       "4           4     245714"
      ]
     },
     "execution_count": 5,
     "metadata": {},
     "output_type": "execute_result"
    }
   ],
   "source": [
    "id.head()"
   ]
  },
  {
   "cell_type": "code",
   "execution_count": 6,
   "metadata": {},
   "outputs": [],
   "source": [
    "data=recipe.drop(columns={'Unnamed: 0','title','rating','review_nums','ingredients','directions_'})"
   ]
  },
  {
   "cell_type": "code",
   "execution_count": 7,
   "metadata": {
    "scrolled": true
   },
   "outputs": [
    {
     "data": {
      "text/html": [
       "<div>\n",
       "<style scoped>\n",
       "    .dataframe tbody tr th:only-of-type {\n",
       "        vertical-align: middle;\n",
       "    }\n",
       "\n",
       "    .dataframe tbody tr th {\n",
       "        vertical-align: top;\n",
       "    }\n",
       "\n",
       "    .dataframe thead th {\n",
       "        text-align: right;\n",
       "    }\n",
       "</style>\n",
       "<table border=\"1\" class=\"dataframe\">\n",
       "  <thead>\n",
       "    <tr style=\"text-align: right;\">\n",
       "      <th></th>\n",
       "      <th>calories</th>\n",
       "      <th>protein</th>\n",
       "      <th>fat</th>\n",
       "      <th>sodium</th>\n",
       "    </tr>\n",
       "  </thead>\n",
       "  <tbody>\n",
       "    <tr>\n",
       "      <th>0</th>\n",
       "      <td>308</td>\n",
       "      <td>21</td>\n",
       "      <td>23</td>\n",
       "      <td>2017</td>\n",
       "    </tr>\n",
       "    <tr>\n",
       "      <th>1</th>\n",
       "      <td>371</td>\n",
       "      <td>36</td>\n",
       "      <td>11</td>\n",
       "      <td>2606</td>\n",
       "    </tr>\n",
       "    <tr>\n",
       "      <th>2</th>\n",
       "      <td>335</td>\n",
       "      <td>23</td>\n",
       "      <td>23</td>\n",
       "      <td>762</td>\n",
       "    </tr>\n",
       "    <tr>\n",
       "      <th>3</th>\n",
       "      <td>640</td>\n",
       "      <td>32</td>\n",
       "      <td>29</td>\n",
       "      <td>1075</td>\n",
       "    </tr>\n",
       "    <tr>\n",
       "      <th>4</th>\n",
       "      <td>162</td>\n",
       "      <td>7</td>\n",
       "      <td>7</td>\n",
       "      <td>189</td>\n",
       "    </tr>\n",
       "  </tbody>\n",
       "</table>\n",
       "</div>"
      ],
      "text/plain": [
       "   calories  protein  fat  sodium\n",
       "0       308       21   23    2017\n",
       "1       371       36   11    2606\n",
       "2       335       23   23     762\n",
       "3       640       32   29    1075\n",
       "4       162        7    7     189"
      ]
     },
     "execution_count": 7,
     "metadata": {},
     "output_type": "execute_result"
    }
   ],
   "source": [
    "data.head()"
   ]
  },
  {
   "cell_type": "code",
   "execution_count": 8,
   "metadata": {},
   "outputs": [],
   "source": [
    "data['recipe_id'] = id['recipe_id'].copy()\n",
    "data.index=data['recipe_id']"
   ]
  },
  {
   "cell_type": "code",
   "execution_count": 9,
   "metadata": {
    "scrolled": true
   },
   "outputs": [
    {
     "data": {
      "text/html": [
       "<div>\n",
       "<style scoped>\n",
       "    .dataframe tbody tr th:only-of-type {\n",
       "        vertical-align: middle;\n",
       "    }\n",
       "\n",
       "    .dataframe tbody tr th {\n",
       "        vertical-align: top;\n",
       "    }\n",
       "\n",
       "    .dataframe thead th {\n",
       "        text-align: right;\n",
       "    }\n",
       "</style>\n",
       "<table border=\"1\" class=\"dataframe\">\n",
       "  <thead>\n",
       "    <tr style=\"text-align: right;\">\n",
       "      <th></th>\n",
       "      <th>calories</th>\n",
       "      <th>protein</th>\n",
       "      <th>fat</th>\n",
       "      <th>sodium</th>\n",
       "      <th>recipe_id</th>\n",
       "    </tr>\n",
       "    <tr>\n",
       "      <th>recipe_id</th>\n",
       "      <th></th>\n",
       "      <th></th>\n",
       "      <th></th>\n",
       "      <th></th>\n",
       "      <th></th>\n",
       "    </tr>\n",
       "  </thead>\n",
       "  <tbody>\n",
       "    <tr>\n",
       "      <th>222388</th>\n",
       "      <td>308</td>\n",
       "      <td>21</td>\n",
       "      <td>23</td>\n",
       "      <td>2017</td>\n",
       "      <td>222388</td>\n",
       "    </tr>\n",
       "    <tr>\n",
       "      <th>240488</th>\n",
       "      <td>371</td>\n",
       "      <td>36</td>\n",
       "      <td>11</td>\n",
       "      <td>2606</td>\n",
       "      <td>240488</td>\n",
       "    </tr>\n",
       "    <tr>\n",
       "      <th>218939</th>\n",
       "      <td>335</td>\n",
       "      <td>23</td>\n",
       "      <td>23</td>\n",
       "      <td>762</td>\n",
       "      <td>218939</td>\n",
       "    </tr>\n",
       "    <tr>\n",
       "      <th>87211</th>\n",
       "      <td>640</td>\n",
       "      <td>32</td>\n",
       "      <td>29</td>\n",
       "      <td>1075</td>\n",
       "      <td>87211</td>\n",
       "    </tr>\n",
       "    <tr>\n",
       "      <th>245714</th>\n",
       "      <td>162</td>\n",
       "      <td>7</td>\n",
       "      <td>7</td>\n",
       "      <td>189</td>\n",
       "      <td>245714</td>\n",
       "    </tr>\n",
       "  </tbody>\n",
       "</table>\n",
       "</div>"
      ],
      "text/plain": [
       "           calories  protein  fat  sodium  recipe_id\n",
       "recipe_id                                           \n",
       "222388          308       21   23    2017     222388\n",
       "240488          371       36   11    2606     240488\n",
       "218939          335       23   23     762     218939\n",
       "87211           640       32   29    1075      87211\n",
       "245714          162        7    7     189     245714"
      ]
     },
     "execution_count": 9,
     "metadata": {},
     "output_type": "execute_result"
    }
   ],
   "source": [
    "data.head()"
   ]
  },
  {
   "cell_type": "code",
   "execution_count": 10,
   "metadata": {},
   "outputs": [],
   "source": [
    "data=data.drop(columns=\"recipe_id\")\n"
   ]
  },
  {
   "cell_type": "code",
   "execution_count": 11,
   "metadata": {
    "scrolled": true
   },
   "outputs": [
    {
     "data": {
      "text/html": [
       "<div>\n",
       "<style scoped>\n",
       "    .dataframe tbody tr th:only-of-type {\n",
       "        vertical-align: middle;\n",
       "    }\n",
       "\n",
       "    .dataframe tbody tr th {\n",
       "        vertical-align: top;\n",
       "    }\n",
       "\n",
       "    .dataframe thead th {\n",
       "        text-align: right;\n",
       "    }\n",
       "</style>\n",
       "<table border=\"1\" class=\"dataframe\">\n",
       "  <thead>\n",
       "    <tr style=\"text-align: right;\">\n",
       "      <th></th>\n",
       "      <th>calories</th>\n",
       "      <th>protein</th>\n",
       "      <th>fat</th>\n",
       "      <th>sodium</th>\n",
       "    </tr>\n",
       "    <tr>\n",
       "      <th>recipe_id</th>\n",
       "      <th></th>\n",
       "      <th></th>\n",
       "      <th></th>\n",
       "      <th></th>\n",
       "    </tr>\n",
       "  </thead>\n",
       "  <tbody>\n",
       "    <tr>\n",
       "      <th>222388</th>\n",
       "      <td>308</td>\n",
       "      <td>21</td>\n",
       "      <td>23</td>\n",
       "      <td>2017</td>\n",
       "    </tr>\n",
       "    <tr>\n",
       "      <th>240488</th>\n",
       "      <td>371</td>\n",
       "      <td>36</td>\n",
       "      <td>11</td>\n",
       "      <td>2606</td>\n",
       "    </tr>\n",
       "    <tr>\n",
       "      <th>218939</th>\n",
       "      <td>335</td>\n",
       "      <td>23</td>\n",
       "      <td>23</td>\n",
       "      <td>762</td>\n",
       "    </tr>\n",
       "    <tr>\n",
       "      <th>87211</th>\n",
       "      <td>640</td>\n",
       "      <td>32</td>\n",
       "      <td>29</td>\n",
       "      <td>1075</td>\n",
       "    </tr>\n",
       "    <tr>\n",
       "      <th>245714</th>\n",
       "      <td>162</td>\n",
       "      <td>7</td>\n",
       "      <td>7</td>\n",
       "      <td>189</td>\n",
       "    </tr>\n",
       "  </tbody>\n",
       "</table>\n",
       "</div>"
      ],
      "text/plain": [
       "           calories  protein  fat  sodium\n",
       "recipe_id                                \n",
       "222388          308       21   23    2017\n",
       "240488          371       36   11    2606\n",
       "218939          335       23   23     762\n",
       "87211           640       32   29    1075\n",
       "245714          162        7    7     189"
      ]
     },
     "execution_count": 11,
     "metadata": {},
     "output_type": "execute_result"
    }
   ],
   "source": [
    "data.head()"
   ]
  },
  {
   "cell_type": "code",
   "execution_count": 12,
   "metadata": {
    "scrolled": true
   },
   "outputs": [
    {
     "data": {
      "text/plain": [
       "array([ 308,   21,   23, 2017], dtype=int64)"
      ]
     },
     "execution_count": 12,
     "metadata": {},
     "output_type": "execute_result"
    }
   ],
   "source": [
    "data.loc[222388].values"
   ]
  },
  {
   "cell_type": "code",
   "execution_count": 13,
   "metadata": {
    "scrolled": false
   },
   "outputs": [
    {
     "data": {
      "text/plain": [
       "array([135,   9,  10, 895], dtype=int64)"
      ]
     },
     "execution_count": 13,
     "metadata": {},
     "output_type": "execute_result"
    }
   ],
   "source": [
    "data.loc[75710].values"
   ]
  },
  {
   "cell_type": "code",
   "execution_count": 14,
   "metadata": {
    "scrolled": true
   },
   "outputs": [
    {
     "data": {
      "text/html": [
       "<div>\n",
       "<style scoped>\n",
       "    .dataframe tbody tr th:only-of-type {\n",
       "        vertical-align: middle;\n",
       "    }\n",
       "\n",
       "    .dataframe tbody tr th {\n",
       "        vertical-align: top;\n",
       "    }\n",
       "\n",
       "    .dataframe thead th {\n",
       "        text-align: right;\n",
       "    }\n",
       "</style>\n",
       "<table border=\"1\" class=\"dataframe\">\n",
       "  <thead>\n",
       "    <tr style=\"text-align: right;\">\n",
       "      <th></th>\n",
       "      <th>calories</th>\n",
       "      <th>protein</th>\n",
       "      <th>fat</th>\n",
       "      <th>sodium</th>\n",
       "    </tr>\n",
       "    <tr>\n",
       "      <th>recipe_id</th>\n",
       "      <th></th>\n",
       "      <th></th>\n",
       "      <th></th>\n",
       "      <th></th>\n",
       "    </tr>\n",
       "  </thead>\n",
       "  <tbody>\n",
       "    <tr>\n",
       "      <th>222388</th>\n",
       "      <td>0.003553</td>\n",
       "      <td>0.004820</td>\n",
       "      <td>0.004773</td>\n",
       "      <td>0.006547</td>\n",
       "    </tr>\n",
       "    <tr>\n",
       "      <th>240488</th>\n",
       "      <td>0.004279</td>\n",
       "      <td>0.008263</td>\n",
       "      <td>0.002283</td>\n",
       "      <td>0.008459</td>\n",
       "    </tr>\n",
       "    <tr>\n",
       "      <th>218939</th>\n",
       "      <td>0.003864</td>\n",
       "      <td>0.005279</td>\n",
       "      <td>0.004773</td>\n",
       "      <td>0.002473</td>\n",
       "    </tr>\n",
       "    <tr>\n",
       "      <th>87211</th>\n",
       "      <td>0.007382</td>\n",
       "      <td>0.007345</td>\n",
       "      <td>0.006018</td>\n",
       "      <td>0.003489</td>\n",
       "    </tr>\n",
       "    <tr>\n",
       "      <th>245714</th>\n",
       "      <td>0.001869</td>\n",
       "      <td>0.001607</td>\n",
       "      <td>0.001453</td>\n",
       "      <td>0.000613</td>\n",
       "    </tr>\n",
       "  </tbody>\n",
       "</table>\n",
       "</div>"
      ],
      "text/plain": [
       "           calories   protein       fat    sodium\n",
       "recipe_id                                        \n",
       "222388     0.003553  0.004820  0.004773  0.006547\n",
       "240488     0.004279  0.008263  0.002283  0.008459\n",
       "218939     0.003864  0.005279  0.004773  0.002473\n",
       "87211      0.007382  0.007345  0.006018  0.003489\n",
       "245714     0.001869  0.001607  0.001453  0.000613"
      ]
     },
     "execution_count": 14,
     "metadata": {},
     "output_type": "execute_result"
    }
   ],
   "source": [
    "df_normalized = pd.DataFrame(normalize(data, axis=0))\n",
    "df_normalized.columns = data.columns\n",
    "df_normalized.index = data.index\n",
    "df_normalized.head()"
   ]
  },
  {
   "cell_type": "code",
   "execution_count": 15,
   "metadata": {},
   "outputs": [
    {
     "data": {
      "text/plain": [
       "184.36238095082484"
      ]
     },
     "execution_count": 15,
     "metadata": {},
     "output_type": "execute_result"
    }
   ],
   "source": [
    "df_normalized.calories.sum()"
   ]
  },
  {
   "cell_type": "code",
   "execution_count": 16,
   "metadata": {},
   "outputs": [
    {
     "data": {
      "text/plain": [
       "array([0.00355277, 0.00481999, 0.00477258, 0.00654674])"
      ]
     },
     "execution_count": 16,
     "metadata": {},
     "output_type": "execute_result"
    }
   ],
   "source": [
    "df_normalized.loc[222388].values"
   ]
  },
  {
   "cell_type": "code",
   "execution_count": 17,
   "metadata": {
    "scrolled": true
   },
   "outputs": [
    {
     "data": {
      "text/html": [
       "<div>\n",
       "<style scoped>\n",
       "    .dataframe tbody tr th:only-of-type {\n",
       "        vertical-align: middle;\n",
       "    }\n",
       "\n",
       "    .dataframe tbody tr th {\n",
       "        vertical-align: top;\n",
       "    }\n",
       "\n",
       "    .dataframe thead th {\n",
       "        text-align: right;\n",
       "    }\n",
       "</style>\n",
       "<table border=\"1\" class=\"dataframe\">\n",
       "  <thead>\n",
       "    <tr style=\"text-align: right;\">\n",
       "      <th></th>\n",
       "      <th>calories</th>\n",
       "      <th>protein</th>\n",
       "      <th>fat</th>\n",
       "      <th>sodium</th>\n",
       "    </tr>\n",
       "    <tr>\n",
       "      <th>recipe_id</th>\n",
       "      <th></th>\n",
       "      <th></th>\n",
       "      <th></th>\n",
       "      <th></th>\n",
       "    </tr>\n",
       "  </thead>\n",
       "  <tbody>\n",
       "    <tr>\n",
       "      <th>222388</th>\n",
       "      <td>0.003553</td>\n",
       "      <td>0.004820</td>\n",
       "      <td>0.004773</td>\n",
       "      <td>0.006547</td>\n",
       "    </tr>\n",
       "    <tr>\n",
       "      <th>240488</th>\n",
       "      <td>0.004279</td>\n",
       "      <td>0.008263</td>\n",
       "      <td>0.002283</td>\n",
       "      <td>0.008459</td>\n",
       "    </tr>\n",
       "    <tr>\n",
       "      <th>218939</th>\n",
       "      <td>0.003864</td>\n",
       "      <td>0.005279</td>\n",
       "      <td>0.004773</td>\n",
       "      <td>0.002473</td>\n",
       "    </tr>\n",
       "    <tr>\n",
       "      <th>87211</th>\n",
       "      <td>0.007382</td>\n",
       "      <td>0.007345</td>\n",
       "      <td>0.006018</td>\n",
       "      <td>0.003489</td>\n",
       "    </tr>\n",
       "    <tr>\n",
       "      <th>245714</th>\n",
       "      <td>0.001869</td>\n",
       "      <td>0.001607</td>\n",
       "      <td>0.001453</td>\n",
       "      <td>0.000613</td>\n",
       "    </tr>\n",
       "  </tbody>\n",
       "</table>\n",
       "</div>"
      ],
      "text/plain": [
       "           calories   protein       fat    sodium\n",
       "recipe_id                                        \n",
       "222388     0.003553  0.004820  0.004773  0.006547\n",
       "240488     0.004279  0.008263  0.002283  0.008459\n",
       "218939     0.003864  0.005279  0.004773  0.002473\n",
       "87211      0.007382  0.007345  0.006018  0.003489\n",
       "245714     0.001869  0.001607  0.001453  0.000613"
      ]
     },
     "execution_count": 17,
     "metadata": {},
     "output_type": "execute_result"
    }
   ],
   "source": [
    "df_normalized.head()"
   ]
  },
  {
   "cell_type": "code",
   "execution_count": 18,
   "metadata": {},
   "outputs": [],
   "source": [
    " def nutrition_recommender(distance_method, recipe_id, N):\n",
    "        \n",
    "    allRecipes = pd.DataFrame(df_normalized.index)\n",
    "    allRecipes = allRecipes[allRecipes.recipe_id != recipe_id]\n",
    "    allRecipes[\"distance\"] = allRecipes[\"recipe_id\"].apply(lambda x: distance_method(df_normalized.loc[recipe_id], df_normalized.loc[x]))\n",
    "    TopNRecommendation = allRecipes.sort_values([\"distance\"]).head(N)\n",
    "    return TopNRecommendation"
   ]
  },
  {
   "cell_type": "code",
   "execution_count": 19,
   "metadata": {},
   "outputs": [
    {
     "data": {
      "text/html": [
       "<div>\n",
       "<style scoped>\n",
       "    .dataframe tbody tr th:only-of-type {\n",
       "        vertical-align: middle;\n",
       "    }\n",
       "\n",
       "    .dataframe tbody tr th {\n",
       "        vertical-align: top;\n",
       "    }\n",
       "\n",
       "    .dataframe thead th {\n",
       "        text-align: right;\n",
       "    }\n",
       "</style>\n",
       "<table border=\"1\" class=\"dataframe\">\n",
       "  <thead>\n",
       "    <tr style=\"text-align: right;\">\n",
       "      <th></th>\n",
       "      <th>recipe_id</th>\n",
       "      <th>distance</th>\n",
       "    </tr>\n",
       "  </thead>\n",
       "  <tbody>\n",
       "    <tr>\n",
       "      <th>1799</th>\n",
       "      <td>258814</td>\n",
       "      <td>0.000516</td>\n",
       "    </tr>\n",
       "    <tr>\n",
       "      <th>12531</th>\n",
       "      <td>21563</td>\n",
       "      <td>0.000792</td>\n",
       "    </tr>\n",
       "    <tr>\n",
       "      <th>3529</th>\n",
       "      <td>257428</td>\n",
       "      <td>0.000868</td>\n",
       "    </tr>\n",
       "    <tr>\n",
       "      <th>46885</th>\n",
       "      <td>99705</td>\n",
       "      <td>0.000900</td>\n",
       "    </tr>\n",
       "    <tr>\n",
       "      <th>14534</th>\n",
       "      <td>234503</td>\n",
       "      <td>0.000951</td>\n",
       "    </tr>\n",
       "    <tr>\n",
       "      <th>3003</th>\n",
       "      <td>219803</td>\n",
       "      <td>0.001004</td>\n",
       "    </tr>\n",
       "    <tr>\n",
       "      <th>4533</th>\n",
       "      <td>38046</td>\n",
       "      <td>0.001011</td>\n",
       "    </tr>\n",
       "    <tr>\n",
       "      <th>74</th>\n",
       "      <td>216090</td>\n",
       "      <td>0.001026</td>\n",
       "    </tr>\n",
       "    <tr>\n",
       "      <th>6710</th>\n",
       "      <td>232096</td>\n",
       "      <td>0.001140</td>\n",
       "    </tr>\n",
       "    <tr>\n",
       "      <th>12913</th>\n",
       "      <td>31026</td>\n",
       "      <td>0.001156</td>\n",
       "    </tr>\n",
       "    <tr>\n",
       "      <th>9022</th>\n",
       "      <td>233617</td>\n",
       "      <td>0.001173</td>\n",
       "    </tr>\n",
       "    <tr>\n",
       "      <th>6650</th>\n",
       "      <td>255660</td>\n",
       "      <td>0.001193</td>\n",
       "    </tr>\n",
       "    <tr>\n",
       "      <th>15621</th>\n",
       "      <td>30506</td>\n",
       "      <td>0.001243</td>\n",
       "    </tr>\n",
       "    <tr>\n",
       "      <th>4766</th>\n",
       "      <td>240583</td>\n",
       "      <td>0.001260</td>\n",
       "    </tr>\n",
       "    <tr>\n",
       "      <th>6945</th>\n",
       "      <td>221040</td>\n",
       "      <td>0.001326</td>\n",
       "    </tr>\n",
       "  </tbody>\n",
       "</table>\n",
       "</div>"
      ],
      "text/plain": [
       "       recipe_id  distance\n",
       "1799      258814  0.000516\n",
       "12531      21563  0.000792\n",
       "3529      257428  0.000868\n",
       "46885      99705  0.000900\n",
       "14534     234503  0.000951\n",
       "3003      219803  0.001004\n",
       "4533       38046  0.001011\n",
       "74        216090  0.001026\n",
       "6710      232096  0.001140\n",
       "12913      31026  0.001156\n",
       "9022      233617  0.001173\n",
       "6650      255660  0.001193\n",
       "15621      30506  0.001243\n",
       "4766      240583  0.001260\n",
       "6945      221040  0.001326"
      ]
     },
     "execution_count": 19,
     "metadata": {},
     "output_type": "execute_result"
    }
   ],
   "source": [
    "nutrition_recommender(euclidean, 222388, 15)\n"
   ]
  },
  {
   "cell_type": "code",
   "execution_count": 20,
   "metadata": {},
   "outputs": [],
   "source": [
    "def nutrition_hybrid_recommender(recipe_id, N):\n",
    "    start = time()\n",
    "    \n",
    "    allRecipes_cosine = pd.DataFrame(df_normalized.index)\n",
    "    allRecipes_cosine = allRecipes_cosine[allRecipes_cosine.recipe_id != recipe_id]\n",
    "    allRecipes_cosine[\"distance\"] = allRecipes_cosine[\"recipe_id\"].apply(lambda x: cosine(df_normalized.loc[recipe_id], df_normalized.loc[x]))\n",
    "    \n",
    "    allRecipes_euclidean = pd.DataFrame(df_normalized.index)\n",
    "    allRecipes_euclidean = allRecipes_euclidean[allRecipes_euclidean.recipe_id != recipe_id]\n",
    "    allRecipes_euclidean[\"distance\"] = allRecipes_euclidean[\"recipe_id\"].apply(lambda x: euclidean(df_normalized.loc[recipe_id], df_normalized.loc[x]))\n",
    "    \n",
    "    allRecipes_hamming = pd.DataFrame(df_normalized.index)\n",
    "    allRecipes_hamming = allRecipes_hamming[allRecipes_hamming.recipe_id != recipe_id]\n",
    "    allRecipes_hamming[\"distance\"] = allRecipes_hamming[\"recipe_id\"].apply(lambda x: hamming(df_normalized.loc[recipe_id], df_normalized.loc[x]))\n",
    "    \n",
    "    Top2Recommendation_cosine = allRecipes_cosine.sort_values([\"distance\"]).head(2).sort_values(by=['distance'])\n",
    "    Top2Recommendation_euclidean = allRecipes_euclidean.sort_values([\"distance\"]).head(2).sort_values(by=['distance'])\n",
    "    Top2Recommendation_hamming = allRecipes_hamming.sort_values([\"distance\"]).head(2).sort_values(by=['distance'])\n",
    "    \n",
    "    recipe_df = recipe.set_index('recipe_id')\n",
    "    hybrid_Top6Recommendation = pd.concat([Top2Recommendation_cosine, Top2Recommendation_euclidean, Top2Recommendation_hamming])\n",
    "    #aver_rate_list = []\n",
    "    #review_nums_list = []\n",
    "    #for recipeid in hybrid_Top6Recommendation.recipe_id:\n",
    "    #    aver_rate_list.append(recipe_df.at[recipeid, 'aver_rate'])\n",
    "    #    review_nums_list.append(recipe_df.at[recipeid, 'review_nums'])\n",
    "    #hybrid_Top6Recommendation['aver_rate'] = aver_rate_list\n",
    "    #hybrid_Top6Recommendation['review_nums'] = review_nums_list\n",
    "    TopNRecommendation = hybrid_Top6Recommendation.head(N).drop(columns=['distance'])\n",
    "    \n",
    "    recipe_id = [recipe_id]   \n",
    "    recipe_list = []\n",
    "    for recipeid in TopNRecommendation.recipe_id:\n",
    "        recipe_id.append(recipeid)   # list of recipe id of selected recipe and recommended recipe(s)\n",
    "        recipe_list.append(\"{}  {}\".format(recipeid, recipe_df.at[recipeid, 'recipe_name']))"
   ]
  },
  {
   "cell_type": "code",
   "execution_count": null,
   "metadata": {},
   "outputs": [],
   "source": []
  },
  {
   "cell_type": "code",
   "execution_count": null,
   "metadata": {},
   "outputs": [],
   "source": []
  },
  {
   "cell_type": "code",
   "execution_count": null,
   "metadata": {},
   "outputs": [],
   "source": []
  },
  {
   "cell_type": "code",
   "execution_count": null,
   "metadata": {},
   "outputs": [],
   "source": []
  },
  {
   "cell_type": "code",
   "execution_count": 21,
   "metadata": {},
   "outputs": [],
   "source": [
    "def nutrition_hybrid_recommender(recipe_id, N):\n",
    "    start = time()\n",
    "    \n",
    "    allRecipes_cosine = pd.DataFrame(df_normalized.index)\n",
    "    allRecipes_cosine = allRecipes_cosine[allRecipes_cosine.recipe_id != recipe_id]\n",
    "    allRecipes_cosine[\"distance\"] = allRecipes_cosine[\"recipe_id\"].apply(lambda x: cosine(df_normalized.loc[recipe_id], df_normalized.loc[x]))\n",
    "    \n",
    "    allRecipes_euclidean = pd.DataFrame(df_normalized.index)\n",
    "    allRecipes_euclidean = allRecipes_euclidean[allRecipes_euclidean.recipe_id != recipe_id]\n",
    "    allRecipes_euclidean[\"distance\"] = allRecipes_euclidean[\"recipe_id\"].apply(lambda x: euclidean(df_normalized.loc[recipe_id], df_normalized.loc[x]))\n",
    "    \n",
    "    allRecipes_hamming = pd.DataFrame(df_normalized.index)\n",
    "    allRecipes_hamming = allRecipes_hamming[allRecipes_hamming.recipe_id != recipe_id]\n",
    "    allRecipes_hamming[\"distance\"] = allRecipes_hamming[\"recipe_id\"].apply(lambda x: hamming(df_normalized.loc[recipe_id], df_normalized.loc[x]))\n",
    "    \n",
    "    Top2Recommendation_cosine = allRecipes_cosine.sort_values([\"distance\"]).head(2)\n",
    "    Top2Recommendation_euclidean = allRecipes_euclidean.sort_values([\"distance\"]).head(2).sort_values(by=['distance'])\n",
    "    Top2Recommendation_hamming = allRecipes_hamming.sort_values([\"distance\"]).head(2).sort_values(by=['distance'])\n",
    "    \n",
    "    hybrid_Top6Recommendation = pd.concat([Top2Recommendation_cosine, Top2Recommendation_euclidean, Top2Recommendation_hamming])\n",
    "\n",
    "\n",
    "    return hybrid_Top6Recommendation"
   ]
  },
  {
   "cell_type": "code",
   "execution_count": 22,
   "metadata": {
    "scrolled": true
   },
   "outputs": [],
   "source": [
    "hybrid_Top6Recommendation=nutrition_hybrid_recommender(245714, 15)"
   ]
  },
  {
   "cell_type": "code",
   "execution_count": 43,
   "metadata": {},
   "outputs": [],
   "source": [
    "data1=recipe.drop(columns={'Unnamed: 0'})"
   ]
  },
  {
   "cell_type": "code",
   "execution_count": 44,
   "metadata": {},
   "outputs": [
    {
     "data": {
      "text/html": [
       "<div>\n",
       "<style scoped>\n",
       "    .dataframe tbody tr th:only-of-type {\n",
       "        vertical-align: middle;\n",
       "    }\n",
       "\n",
       "    .dataframe tbody tr th {\n",
       "        vertical-align: top;\n",
       "    }\n",
       "\n",
       "    .dataframe thead th {\n",
       "        text-align: right;\n",
       "    }\n",
       "</style>\n",
       "<table border=\"1\" class=\"dataframe\">\n",
       "  <thead>\n",
       "    <tr style=\"text-align: right;\">\n",
       "      <th></th>\n",
       "      <th>title</th>\n",
       "      <th>rating</th>\n",
       "      <th>review_nums</th>\n",
       "      <th>calories</th>\n",
       "      <th>protein</th>\n",
       "      <th>fat</th>\n",
       "      <th>sodium</th>\n",
       "      <th>ingredients</th>\n",
       "      <th>directions_</th>\n",
       "    </tr>\n",
       "  </thead>\n",
       "  <tbody>\n",
       "    <tr>\n",
       "      <th>0</th>\n",
       "      <td>Homemade Bacon</td>\n",
       "      <td>5.0</td>\n",
       "      <td>3</td>\n",
       "      <td>308</td>\n",
       "      <td>21</td>\n",
       "      <td>23</td>\n",
       "      <td>2017</td>\n",
       "      <td>pork belly\\nsmoked paprika\\nkosher salt\\ngroun...</td>\n",
       "      <td>Prep\\n5 m\\nCook\\n2 h 45 m\\nReady In\\n11 h 50 m...</td>\n",
       "    </tr>\n",
       "    <tr>\n",
       "      <th>1</th>\n",
       "      <td>Pork Loin, Apples, and Sauerkraut</td>\n",
       "      <td>4.8</td>\n",
       "      <td>29</td>\n",
       "      <td>371</td>\n",
       "      <td>36</td>\n",
       "      <td>11</td>\n",
       "      <td>2606</td>\n",
       "      <td>sauerkraut drained\\nGranny Smith apples sliced...</td>\n",
       "      <td>Prep\\n15 m\\nCook\\n2 h 30 m\\nReady In\\n2 h 45 m...</td>\n",
       "    </tr>\n",
       "    <tr>\n",
       "      <th>2</th>\n",
       "      <td>Foolproof Rosemary Chicken Wings</td>\n",
       "      <td>4.6</td>\n",
       "      <td>12</td>\n",
       "      <td>335</td>\n",
       "      <td>23</td>\n",
       "      <td>23</td>\n",
       "      <td>762</td>\n",
       "      <td>chicken wings\\nsprigs rosemary\\nhead garlic\\no...</td>\n",
       "      <td>Prep\\n20 m\\nCook\\n40 m\\nReady In\\n1 h\\nPreheat...</td>\n",
       "    </tr>\n",
       "    <tr>\n",
       "      <th>3</th>\n",
       "      <td>Chicken Pesto Paninis</td>\n",
       "      <td>4.6</td>\n",
       "      <td>163</td>\n",
       "      <td>640</td>\n",
       "      <td>32</td>\n",
       "      <td>29</td>\n",
       "      <td>1075</td>\n",
       "      <td>focaccia bread quartered\\nprepared basil pesto...</td>\n",
       "      <td>Prep\\n15 m\\nCook\\n5 m\\nReady In\\n20 m\\nPreheat...</td>\n",
       "    </tr>\n",
       "    <tr>\n",
       "      <th>4</th>\n",
       "      <td>Potato Bacon Pizza</td>\n",
       "      <td>4.5</td>\n",
       "      <td>2</td>\n",
       "      <td>162</td>\n",
       "      <td>7</td>\n",
       "      <td>7</td>\n",
       "      <td>189</td>\n",
       "      <td>red potatoes\\nstrips bacon\\nSauce:\\nheavy whip...</td>\n",
       "      <td>Prep\\n20 m\\nCook\\n45 m\\nReady In\\n1 h 10 m\\nPl...</td>\n",
       "    </tr>\n",
       "  </tbody>\n",
       "</table>\n",
       "</div>"
      ],
      "text/plain": [
       "                               title  rating  review_nums  calories  protein  \\\n",
       "0                     Homemade Bacon     5.0            3       308       21   \n",
       "1  Pork Loin, Apples, and Sauerkraut     4.8           29       371       36   \n",
       "2   Foolproof Rosemary Chicken Wings     4.6           12       335       23   \n",
       "3              Chicken Pesto Paninis     4.6          163       640       32   \n",
       "4                 Potato Bacon Pizza     4.5            2       162        7   \n",
       "\n",
       "   fat  sodium                                        ingredients  \\\n",
       "0   23    2017  pork belly\\nsmoked paprika\\nkosher salt\\ngroun...   \n",
       "1   11    2606  sauerkraut drained\\nGranny Smith apples sliced...   \n",
       "2   23     762  chicken wings\\nsprigs rosemary\\nhead garlic\\no...   \n",
       "3   29    1075  focaccia bread quartered\\nprepared basil pesto...   \n",
       "4    7     189  red potatoes\\nstrips bacon\\nSauce:\\nheavy whip...   \n",
       "\n",
       "                                         directions_  \n",
       "0  Prep\\n5 m\\nCook\\n2 h 45 m\\nReady In\\n11 h 50 m...  \n",
       "1  Prep\\n15 m\\nCook\\n2 h 30 m\\nReady In\\n2 h 45 m...  \n",
       "2  Prep\\n20 m\\nCook\\n40 m\\nReady In\\n1 h\\nPreheat...  \n",
       "3  Prep\\n15 m\\nCook\\n5 m\\nReady In\\n20 m\\nPreheat...  \n",
       "4  Prep\\n20 m\\nCook\\n45 m\\nReady In\\n1 h 10 m\\nPl...  "
      ]
     },
     "execution_count": 44,
     "metadata": {},
     "output_type": "execute_result"
    }
   ],
   "source": [
    "data1.head()"
   ]
  },
  {
   "cell_type": "code",
   "execution_count": 49,
   "metadata": {
    "scrolled": true
   },
   "outputs": [],
   "source": [
    "data1['recipe_id'] = id['recipe_id'].copy()\n",
    "#data1['recipe_id'].index"
   ]
  },
  {
   "cell_type": "code",
   "execution_count": 55,
   "metadata": {},
   "outputs": [],
   "source": [
    "data1=data1.set_index('recipe_id')"
   ]
  },
  {
   "cell_type": "code",
   "execution_count": 56,
   "metadata": {
    "scrolled": false
   },
   "outputs": [
    {
     "data": {
      "text/html": [
       "<div>\n",
       "<style scoped>\n",
       "    .dataframe tbody tr th:only-of-type {\n",
       "        vertical-align: middle;\n",
       "    }\n",
       "\n",
       "    .dataframe tbody tr th {\n",
       "        vertical-align: top;\n",
       "    }\n",
       "\n",
       "    .dataframe thead th {\n",
       "        text-align: right;\n",
       "    }\n",
       "</style>\n",
       "<table border=\"1\" class=\"dataframe\">\n",
       "  <thead>\n",
       "    <tr style=\"text-align: right;\">\n",
       "      <th></th>\n",
       "      <th>title</th>\n",
       "      <th>rating</th>\n",
       "      <th>review_nums</th>\n",
       "      <th>calories</th>\n",
       "      <th>protein</th>\n",
       "      <th>fat</th>\n",
       "      <th>sodium</th>\n",
       "      <th>ingredients</th>\n",
       "      <th>directions_</th>\n",
       "    </tr>\n",
       "    <tr>\n",
       "      <th>recipe_id</th>\n",
       "      <th></th>\n",
       "      <th></th>\n",
       "      <th></th>\n",
       "      <th></th>\n",
       "      <th></th>\n",
       "      <th></th>\n",
       "      <th></th>\n",
       "      <th></th>\n",
       "      <th></th>\n",
       "    </tr>\n",
       "  </thead>\n",
       "  <tbody>\n",
       "    <tr>\n",
       "      <th>222388</th>\n",
       "      <td>Homemade Bacon</td>\n",
       "      <td>5.0</td>\n",
       "      <td>3</td>\n",
       "      <td>308</td>\n",
       "      <td>21</td>\n",
       "      <td>23</td>\n",
       "      <td>2017</td>\n",
       "      <td>pork belly\\nsmoked paprika\\nkosher salt\\ngroun...</td>\n",
       "      <td>Prep\\n5 m\\nCook\\n2 h 45 m\\nReady In\\n11 h 50 m...</td>\n",
       "    </tr>\n",
       "    <tr>\n",
       "      <th>240488</th>\n",
       "      <td>Pork Loin, Apples, and Sauerkraut</td>\n",
       "      <td>4.8</td>\n",
       "      <td>29</td>\n",
       "      <td>371</td>\n",
       "      <td>36</td>\n",
       "      <td>11</td>\n",
       "      <td>2606</td>\n",
       "      <td>sauerkraut drained\\nGranny Smith apples sliced...</td>\n",
       "      <td>Prep\\n15 m\\nCook\\n2 h 30 m\\nReady In\\n2 h 45 m...</td>\n",
       "    </tr>\n",
       "    <tr>\n",
       "      <th>218939</th>\n",
       "      <td>Foolproof Rosemary Chicken Wings</td>\n",
       "      <td>4.6</td>\n",
       "      <td>12</td>\n",
       "      <td>335</td>\n",
       "      <td>23</td>\n",
       "      <td>23</td>\n",
       "      <td>762</td>\n",
       "      <td>chicken wings\\nsprigs rosemary\\nhead garlic\\no...</td>\n",
       "      <td>Prep\\n20 m\\nCook\\n40 m\\nReady In\\n1 h\\nPreheat...</td>\n",
       "    </tr>\n",
       "    <tr>\n",
       "      <th>87211</th>\n",
       "      <td>Chicken Pesto Paninis</td>\n",
       "      <td>4.6</td>\n",
       "      <td>163</td>\n",
       "      <td>640</td>\n",
       "      <td>32</td>\n",
       "      <td>29</td>\n",
       "      <td>1075</td>\n",
       "      <td>focaccia bread quartered\\nprepared basil pesto...</td>\n",
       "      <td>Prep\\n15 m\\nCook\\n5 m\\nReady In\\n20 m\\nPreheat...</td>\n",
       "    </tr>\n",
       "    <tr>\n",
       "      <th>245714</th>\n",
       "      <td>Potato Bacon Pizza</td>\n",
       "      <td>4.5</td>\n",
       "      <td>2</td>\n",
       "      <td>162</td>\n",
       "      <td>7</td>\n",
       "      <td>7</td>\n",
       "      <td>189</td>\n",
       "      <td>red potatoes\\nstrips bacon\\nSauce:\\nheavy whip...</td>\n",
       "      <td>Prep\\n20 m\\nCook\\n45 m\\nReady In\\n1 h 10 m\\nPl...</td>\n",
       "    </tr>\n",
       "  </tbody>\n",
       "</table>\n",
       "</div>"
      ],
      "text/plain": [
       "                                       title  rating  review_nums  calories  \\\n",
       "recipe_id                                                                     \n",
       "222388                        Homemade Bacon     5.0            3       308   \n",
       "240488     Pork Loin, Apples, and Sauerkraut     4.8           29       371   \n",
       "218939      Foolproof Rosemary Chicken Wings     4.6           12       335   \n",
       "87211                  Chicken Pesto Paninis     4.6          163       640   \n",
       "245714                    Potato Bacon Pizza     4.5            2       162   \n",
       "\n",
       "           protein  fat  sodium  \\\n",
       "recipe_id                         \n",
       "222388          21   23    2017   \n",
       "240488          36   11    2606   \n",
       "218939          23   23     762   \n",
       "87211           32   29    1075   \n",
       "245714           7    7     189   \n",
       "\n",
       "                                                 ingredients  \\\n",
       "recipe_id                                                      \n",
       "222388     pork belly\\nsmoked paprika\\nkosher salt\\ngroun...   \n",
       "240488     sauerkraut drained\\nGranny Smith apples sliced...   \n",
       "218939     chicken wings\\nsprigs rosemary\\nhead garlic\\no...   \n",
       "87211      focaccia bread quartered\\nprepared basil pesto...   \n",
       "245714     red potatoes\\nstrips bacon\\nSauce:\\nheavy whip...   \n",
       "\n",
       "                                                 directions_  \n",
       "recipe_id                                                     \n",
       "222388     Prep\\n5 m\\nCook\\n2 h 45 m\\nReady In\\n11 h 50 m...  \n",
       "240488     Prep\\n15 m\\nCook\\n2 h 30 m\\nReady In\\n2 h 45 m...  \n",
       "218939     Prep\\n20 m\\nCook\\n40 m\\nReady In\\n1 h\\nPreheat...  \n",
       "87211      Prep\\n15 m\\nCook\\n5 m\\nReady In\\n20 m\\nPreheat...  \n",
       "245714     Prep\\n20 m\\nCook\\n45 m\\nReady In\\n1 h 10 m\\nPl...  "
      ]
     },
     "execution_count": 56,
     "metadata": {},
     "output_type": "execute_result"
    }
   ],
   "source": [
    "data1.head()"
   ]
  },
  {
   "cell_type": "code",
   "execution_count": 58,
   "metadata": {},
   "outputs": [],
   "source": [
    "data1.to_csv(r'D:\\food data\\cleaned data\\cleaned1id.csv',index= True)"
   ]
  },
  {
   "cell_type": "code",
   "execution_count": 26,
   "metadata": {
    "scrolled": false
   },
   "outputs": [
    {
     "data": {
      "text/html": [
       "<div>\n",
       "<style scoped>\n",
       "    .dataframe tbody tr th:only-of-type {\n",
       "        vertical-align: middle;\n",
       "    }\n",
       "\n",
       "    .dataframe tbody tr th {\n",
       "        vertical-align: top;\n",
       "    }\n",
       "\n",
       "    .dataframe thead th {\n",
       "        text-align: right;\n",
       "    }\n",
       "</style>\n",
       "<table border=\"1\" class=\"dataframe\">\n",
       "  <thead>\n",
       "    <tr style=\"text-align: right;\">\n",
       "      <th></th>\n",
       "      <th>recipe_id</th>\n",
       "      <th>distance</th>\n",
       "    </tr>\n",
       "  </thead>\n",
       "  <tbody>\n",
       "    <tr>\n",
       "      <th>35936</th>\n",
       "      <td>24512</td>\n",
       "      <td>0.000010</td>\n",
       "    </tr>\n",
       "    <tr>\n",
       "      <th>6831</th>\n",
       "      <td>65478</td>\n",
       "      <td>0.000055</td>\n",
       "    </tr>\n",
       "    <tr>\n",
       "      <th>38997</th>\n",
       "      <td>216674</td>\n",
       "      <td>0.000226</td>\n",
       "    </tr>\n",
       "    <tr>\n",
       "      <th>34018</th>\n",
       "      <td>42657</td>\n",
       "      <td>0.000244</td>\n",
       "    </tr>\n",
       "    <tr>\n",
       "      <th>40226</th>\n",
       "      <td>231922</td>\n",
       "      <td>0.500000</td>\n",
       "    </tr>\n",
       "    <tr>\n",
       "      <th>19340</th>\n",
       "      <td>202261</td>\n",
       "      <td>0.500000</td>\n",
       "    </tr>\n",
       "  </tbody>\n",
       "</table>\n",
       "</div>"
      ],
      "text/plain": [
       "       recipe_id  distance\n",
       "35936      24512  0.000010\n",
       "6831       65478  0.000055\n",
       "38997     216674  0.000226\n",
       "34018      42657  0.000244\n",
       "40226     231922  0.500000\n",
       "19340     202261  0.500000"
      ]
     },
     "execution_count": 26,
     "metadata": {},
     "output_type": "execute_result"
    }
   ],
   "source": [
    "hybrid_Top6Recommendation"
   ]
  },
  {
   "cell_type": "code",
   "execution_count": 27,
   "metadata": {},
   "outputs": [],
   "source": [
    "#df[\"a\"] = pd.to_numeric(df[\"a\"])\n",
    "hybrid_Top6Recommendation[\"recipe_id\"]=pd.to_numeric(hybrid_Top6Recommendation[\"recipe_id\"])"
   ]
  },
  {
   "cell_type": "code",
   "execution_count": 28,
   "metadata": {},
   "outputs": [
    {
     "data": {
      "text/plain": [
       "array([2.45120000e+04, 9.54296872e-06])"
      ]
     },
     "execution_count": 28,
     "metadata": {},
     "output_type": "execute_result"
    }
   ],
   "source": [
    "hybrid_Top6Recommendation.iloc[0].values"
   ]
  },
  {
   "cell_type": "code",
   "execution_count": 29,
   "metadata": {
    "scrolled": true
   },
   "outputs": [
    {
     "data": {
      "text/plain": [
       "24512"
      ]
     },
     "execution_count": 29,
     "metadata": {},
     "output_type": "execute_result"
    }
   ],
   "source": [
    "hybrid_Top6Recommendation.recipe_id.iloc[0]\n",
    "#data.loc[75710].values"
   ]
  },
  {
   "cell_type": "code",
   "execution_count": 30,
   "metadata": {
    "scrolled": false
   },
   "outputs": [
    {
     "data": {
      "text/plain": [
       "\"Patti's Mussels a la Mariniere\""
      ]
     },
     "execution_count": 30,
     "metadata": {},
     "output_type": "execute_result"
    }
   ],
   "source": [
    "data1.loc[42657].title"
   ]
  },
  {
   "cell_type": "code",
   "execution_count": 31,
   "metadata": {
    "scrolled": true
   },
   "outputs": [
    {
     "name": "stdout",
     "output_type": "stream",
     "text": [
      "fresh mussels\n",
      "extra virgin olive oil\n",
      "garlic\n",
      "white wine\n",
      "margarine\n",
      "green onions\n",
      "fresh parsley\n",
      "roma (plum) tomatoes chopped\n",
      "salt and pepper to taste\n",
      ".....\n",
      "red potatoes\n",
      "strips bacon\n",
      "Sauce:\n",
      "heavy whipping cream\n",
      "butter\n",
      "minced garlic\n",
      "grated Parmesan cheese\n",
      "Crust:\n",
      "warm water (125 degrees F 52 degrees C)\n",
      "honey\n",
      "active dry yeast\n",
      "vegetable oil\n",
      "all-purpose flour\n",
      "shredded mozzarella cheese\n"
     ]
    }
   ],
   "source": [
    "print(data1.loc[42657].ingredients)\n",
    "print(\".....\")\n",
    "print(data1.loc[245714].ingredients)\n"
   ]
  },
  {
   "cell_type": "code",
   "execution_count": null,
   "metadata": {},
   "outputs": [],
   "source": []
  }
 ],
 "metadata": {
  "kernelspec": {
   "display_name": "Python 3",
   "language": "python",
   "name": "python3"
  },
  "language_info": {
   "codemirror_mode": {
    "name": "ipython",
    "version": 3
   },
   "file_extension": ".py",
   "mimetype": "text/x-python",
   "name": "python",
   "nbconvert_exporter": "python",
   "pygments_lexer": "ipython3",
   "version": "3.6.12"
  }
 },
 "nbformat": 4,
 "nbformat_minor": 4
}
